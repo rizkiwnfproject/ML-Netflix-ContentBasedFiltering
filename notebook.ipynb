{
 "cells": [
  {
   "cell_type": "markdown",
   "id": "e697c45d",
   "metadata": {},
   "source": [
    "# Laporan Proyek Machine Learning - Rizki Wahyu Nurcahyani Fajarwati \n",
    "- **Nama:** Rizki Wahyu Nurcahyani Fajawrati\n",
    "- **Email:** a123xbf441@devacademy.id\n",
    "- **ID Dicoding:** a123xbf441"
   ]
  },
  {
   "cell_type": "markdown",
   "id": "2ab07698",
   "metadata": {},
   "source": [
    "## Import Semua Packages/Library yang Digunakan"
   ]
  },
  {
   "cell_type": "markdown",
   "id": "3f360d38",
   "metadata": {},
   "source": [
    "Dalam mengerjakan proyek ini, langkah awalnyaadalah mengimpor semua library yang diperlukan. Library-library ini digunakan untuk berbagai keperluan seperti:\n",
    "- manipulasi data (pandas, numpy),\n",
    "- visualisasi data (matplotlib, seaborn),\n",
    "- preprocessing menggunakan TF-IDF dan matriks menggunakan cosine similiarity"
   ]
  },
  {
   "cell_type": "code",
   "execution_count": 1,
   "id": "c1fffe22",
   "metadata": {},
   "outputs": [],
   "source": [
    "import pandas as pd\n",
    "import numpy as np\n",
    "import matplotlib.pyplot as plt\n",
    "import seaborn as sns\n",
    "\n",
    "from sklearn.feature_extraction.text import TfidfVectorizer\n",
    "from sklearn.metrics.pairwise import cosine_similarity"
   ]
  },
  {
   "cell_type": "markdown",
   "id": "3e2cbdac",
   "metadata": {},
   "source": [
    "## Data Understanding"
   ]
  },
  {
   "cell_type": "markdown",
   "id": "679c524f",
   "metadata": {},
   "source": [
    "#### Informasi Dataset\n",
    "Dataset Netflix Movies and TV Shows merupakan dataset yang berasal dari kaggle, dengan link berikut : https://www.kaggle.com/datasets/shivamb/netflix-shows. Dataset ini kemudian saya download dan saya akses melalui komputer local dan saya simpan dengan nama netflix_titles.csv. \n",
    "\n",
    "Dataset ini memiliki data sebanyak 8.807 baris data serta 12 kolom dan terdapat kolom yang memiliki missing value. Selanjutnya akan dilakukan proses preprocessing, untuk mempersiapkan data agar dapat diolah menjadi sebuah sistem rekomendasi content-based filtering berdasarkan fitur listed-in. Dataset ini memiliki beberapa kolom antara lain show_id, type, title, director, cast, country, date_added, release_year, rating, duration, listed_in. \n",
    "\n",
    "Baris kode dibawah ini digunakan untuk membaca file CSV bernama netflix_titles.csv. File CSV tersebut berisi dataset list nama film yang ada di aplikasi netflix beserta dengan fitur lainnya. Hasil pembacaan disimpan dalam variabel df (dataframe). Kemudian menggunakan head() untuk menampilkan 5 baris pertama dari dataframe df. Ini berguna untuk melihat struktur awal data, seperti nama kolom, tipe data, dan isi dari beberapa baris awal."
   ]
  },
  {
   "cell_type": "code",
   "execution_count": 2,
   "id": "e01cb83c",
   "metadata": {},
   "outputs": [
    {
     "name": "stdout",
     "output_type": "stream",
     "text": [
      "Dataset Shape: (8807, 12)\n",
      "  show_id     type                  title         director  \\\n",
      "0      s1    Movie   Dick Johnson Is Dead  Kirsten Johnson   \n",
      "1      s2  TV Show          Blood & Water              NaN   \n",
      "2      s3  TV Show              Ganglands  Julien Leclercq   \n",
      "3      s4  TV Show  Jailbirds New Orleans              NaN   \n",
      "4      s5  TV Show           Kota Factory              NaN   \n",
      "\n",
      "                                                cast        country  \\\n",
      "0                                                NaN  United States   \n",
      "1  Ama Qamata, Khosi Ngema, Gail Mabalane, Thaban...   South Africa   \n",
      "2  Sami Bouajila, Tracy Gotoas, Samuel Jouy, Nabi...            NaN   \n",
      "3                                                NaN            NaN   \n",
      "4  Mayur More, Jitendra Kumar, Ranjan Raj, Alam K...          India   \n",
      "\n",
      "           date_added  release_year rating   duration  \\\n",
      "0  September 25, 2021          2020  PG-13     90 min   \n",
      "1  September 24, 2021          2021  TV-MA  2 Seasons   \n",
      "2  September 24, 2021          2021  TV-MA   1 Season   \n",
      "3  September 24, 2021          2021  TV-MA   1 Season   \n",
      "4  September 24, 2021          2021  TV-MA  2 Seasons   \n",
      "\n",
      "                                           listed_in  \\\n",
      "0                                      Documentaries   \n",
      "1    International TV Shows, TV Dramas, TV Mysteries   \n",
      "2  Crime TV Shows, International TV Shows, TV Act...   \n",
      "3                             Docuseries, Reality TV   \n",
      "4  International TV Shows, Romantic TV Shows, TV ...   \n",
      "\n",
      "                                         description  \n",
      "0  As her father nears the end of his life, filmm...  \n",
      "1  After crossing paths at a party, a Cape Town t...  \n",
      "2  To protect his family from a powerful drug lor...  \n",
      "3  Feuds, flirtations and toilet talk go down amo...  \n",
      "4  In a city of coaching centers known to train I...  \n"
     ]
    }
   ],
   "source": [
    "df = pd.read_csv(\"netflix_titles.csv\")\n",
    "print(\"Dataset Shape:\", df.shape)\n",
    "print(df.head())"
   ]
  },
  {
   "cell_type": "markdown",
   "id": "a2b3c867",
   "metadata": {},
   "source": [
    "#### Pengecekan Tipe Data\n",
    "- Kode ini digunakan untuk mengecek atau memeriksa tipe data dari setiap kolom yang ada di variabel df, dan terdapat 2 tipe data yaitu int, dan object.\n",
    "- untuk int masuk ke numerik antara lain : release_year.\n",
    "- sedangkan untuk objek masuk ke kategorikal antara lain : show_id, type, title, director, cast, country, date_added, rating, duration, listed_in. "
   ]
  },
  {
   "cell_type": "code",
   "execution_count": 3,
   "id": "8a996894",
   "metadata": {},
   "outputs": [
    {
     "name": "stdout",
     "output_type": "stream",
     "text": [
      "show_id         object\n",
      "type            object\n",
      "title           object\n",
      "director        object\n",
      "cast            object\n",
      "country         object\n",
      "date_added      object\n",
      "release_year     int64\n",
      "rating          object\n",
      "duration        object\n",
      "listed_in       object\n",
      "description     object\n",
      "dtype: object\n"
     ]
    }
   ],
   "source": [
    "data_types = df.dtypes\n",
    "print(data_types)"
   ]
  },
  {
   "cell_type": "markdown",
   "id": "a5400aac",
   "metadata": {},
   "source": [
    "#### Penjelasan setiap Fitur\n",
    "Descriptive merupakan fungsi yang digunakan untuk menghasilkan statistik deskriptif dari kolom-kolom numerik di dalam dataframe df.\n",
    "Statistik yang ditampilkan mencakup:\n",
    "- count: jumlah nilai yang tidak kosong (non-NaN),\n",
    "- mean: nilai rata-rata,\n",
    "- std: standar deviasi (penyebaran data),\n",
    "- min: nilai minimum,\n",
    "- 25%, 50%, 75%: kuartil 1, median, dan kuartil 3,\n",
    "- max: nilai maksimum.\n",
    "\n",
    "Pada data ini, terdapat 8.807 baris data, kemudian untuk penjelasannya antara lain : \n",
    "1. release_year\n",
    "    - Rata-rata: 2014\n",
    "    - Minimum: 1925\n",
    "    - Maksimum: 2021\n",
    "    - Rentang penayangan/release film ini tidak menunjukkan adanya outlier, karena rentang masih wajar, dan ketika dilihat untuk baris datanya memang benar untuk release ya tahun 1925.\n",
    "\n",
    "2. show_id\n",
    "    - ID unik untuk setiap judul yang tercantum di Netflix. Digunakan sebagai identifikasi unik.\n",
    "\n",
    "3. type\n",
    "    - Menunjukkan tipe konten untuk menandakan apakah konten berupa film atau serial TV. Tipenya antara lain : Movie dan TV Show.\n",
    "\n",
    "4. title\n",
    "    - Judul tayangan yang ada di netflix. Setiap judul biasanya unik dan menjadi identitas utama sebuah tayangan. \n",
    "\n",
    "5. director\n",
    "    - Nama sutradara dari setiap film, banyak sutradara yang menjembatani film yang sama, dan banyak pula yang kosong(missing_value). \n",
    "\n",
    "6. cast\n",
    "    - Daftar aktor atau aktris yang terlibat dalam tayangan. Namun beberapa terdapat data yang kosong.\n",
    "\n",
    "7. country\n",
    "    - Negara tempat produksi konten dilakukan. Isinya bisa berisi lebih dari satu negara atau kosong.\n",
    "\n",
    "8. date_added\n",
    "    - Tanggal film ditambahkan ke platform Netflix.\n",
    "\n",
    "9. rating\n",
    "    - Kategori usia yang diperbolehkan menonton tayangan. Kategori usia (TV-MA, PG, R, dll) : \n",
    "        - TV-MA\tatau Mature Audience –> khusus dewasa (usia 17+), berisi kekerasan, seks, dll.\n",
    "        - PG atau Parental Guidance –> butuh bimbingan orang tua untuk anak-anak.\n",
    "        - R\tatau Restricted –> terbatas untuk usia 17+ kecuali didampingi orang tua.\n",
    "        - TV-G\tatau General Audience –> aman untuk semua usia.\n",
    "        - NC-17\t-> Tidak cocok untuk anak-anak di bawah usia 17, meski dengan pengawasan.\n",
    "\n",
    "10. duration\n",
    "    -  Lama tayangan film atau jumlah season. untuk movie dalam satuan menit (misal: \"90 min\") dan untuk TV Show dalam jumlah musim (misal: \"1 Season\")\n",
    "\n",
    "11. listed_in\n",
    "    - Genre atau kategori tayangan. berisi multi genre yang dipisahkan oleh koma, berisi Dramas, Comedies, Action & Adventure\n",
    "\n",
    "12. description\n",
    "    -  Ringkasan atau sinopsis singkat dari konten. "
   ]
  },
  {
   "cell_type": "code",
   "execution_count": 4,
   "id": "c7998243",
   "metadata": {},
   "outputs": [
    {
     "name": "stdout",
     "output_type": "stream",
     "text": [
      "\n",
      "Descriptive Statistics:\n",
      "        release_year\n",
      "count   8807.000000\n",
      "mean    2014.180198\n",
      "std        8.819312\n",
      "min     1925.000000\n",
      "25%     2013.000000\n",
      "50%     2017.000000\n",
      "75%     2019.000000\n",
      "max     2021.000000\n"
     ]
    }
   ],
   "source": [
    "print(\"\\nDescriptive Statistics:\\n\", df.describe())"
   ]
  },
  {
   "cell_type": "markdown",
   "id": "694155b6",
   "metadata": {},
   "source": [
    "digunakan untuk melihat jumlah tayangan berdasarkan tahun pembuatannya/release_year"
   ]
  },
  {
   "cell_type": "code",
   "execution_count": 5,
   "id": "77465e05",
   "metadata": {},
   "outputs": [
    {
     "data": {
      "text/html": [
       "<div>\n",
       "<style scoped>\n",
       "    .dataframe tbody tr th:only-of-type {\n",
       "        vertical-align: middle;\n",
       "    }\n",
       "\n",
       "    .dataframe tbody tr th {\n",
       "        vertical-align: top;\n",
       "    }\n",
       "\n",
       "    .dataframe thead th {\n",
       "        text-align: right;\n",
       "    }\n",
       "</style>\n",
       "<table border=\"1\" class=\"dataframe\">\n",
       "  <thead>\n",
       "    <tr style=\"text-align: right;\">\n",
       "      <th></th>\n",
       "      <th>jumlah_tayangan</th>\n",
       "      <th>daftar_tahun</th>\n",
       "    </tr>\n",
       "  </thead>\n",
       "  <tbody>\n",
       "    <tr>\n",
       "      <th>40</th>\n",
       "      <td>902</td>\n",
       "      <td>[2016]</td>\n",
       "    </tr>\n",
       "    <tr>\n",
       "      <th>41</th>\n",
       "      <td>953</td>\n",
       "      <td>[2020]</td>\n",
       "    </tr>\n",
       "    <tr>\n",
       "      <th>42</th>\n",
       "      <td>1030</td>\n",
       "      <td>[2019]</td>\n",
       "    </tr>\n",
       "    <tr>\n",
       "      <th>43</th>\n",
       "      <td>1032</td>\n",
       "      <td>[2017]</td>\n",
       "    </tr>\n",
       "    <tr>\n",
       "      <th>44</th>\n",
       "      <td>1147</td>\n",
       "      <td>[2018]</td>\n",
       "    </tr>\n",
       "  </tbody>\n",
       "</table>\n",
       "</div>"
      ],
      "text/plain": [
       "    jumlah_tayangan daftar_tahun\n",
       "40              902       [2016]\n",
       "41              953       [2020]\n",
       "42             1030       [2019]\n",
       "43             1032       [2017]\n",
       "44             1147       [2018]"
      ]
     },
     "execution_count": 5,
     "metadata": {},
     "output_type": "execute_result"
    }
   ],
   "source": [
    "year_counts = df['release_year'].value_counts()\n",
    "year_counts_df = year_counts.reset_index()\n",
    "year_counts_df.columns = ['release_year', 'count']\n",
    "grouped = year_counts_df.groupby('count')['release_year'].apply(list).reset_index()\n",
    "grouped.columns = ['jumlah_tayangan', 'daftar_tahun']\n",
    "grouped.tail()\n"
   ]
  },
  {
   "cell_type": "markdown",
   "id": "ae00caad",
   "metadata": {},
   "source": [
    "#### Visualisasi Data\n",
    "Mengambil semua nama kolom dari dataframe df lalu menghitung berapa banyak baris dan kolom grid yang dibutuhkan agar semua fitur bisa divisualisasikan dalam 3 subplot. Kemudian membuat figure dan axes menggunakan matplotlib, lalu mengubah susunannya agar mudah diakses satu per satu. Dilakukan iterasi untuk setiap kolom dan dibuatkan histogramnya dengan judul masing-masing setiap diagramnya agar mudah untuk dibaca. \n",
    "\n",
    "tidak semua saya visualisasikan, dikarenakan banyak yang memiliki variabel lebih dari yang ada semisal title, atau direction sehingga sulit untuk ditampilkan. Dan berdasarkan visualisasi histogram, terdapat penjelasan seperti berikut : \n",
    "1. Distribusi dari type (Movie vs TV Show) : Jumlah Movie jauh lebih banyak dibandingkan TV Show, \n",
    "2. Distribusi dari release_year : Terdapat lonjakan signifikan pada tahun 2000 ke atas, terutama 2000–2020. Distribusi ini menunjukkan bahwa Netflix lebih banyak menambahkan konten modern dibanding konten lama. Skewed to the left (negative skew) hal ini dikarenakan mayoritas data berada di tahun-tahun baru, sedangkan data tahun lama sangat sedikit (misalnya 1925 hanya 1 data). \n",
    "3. Distribusi dari rating : Paling banyak: TV-MA, TV-14, dan PG. sehingga konten di Netflix didominasi tayangan dewasa dan remaja (TV-MA, TV-14, PG).\n",
    "4. Distribusi dari duration : paling banyak adalah tayangan tv movies yang menampilkan beberapa session, namun session 1 yang paling unggul. \n",
    "5. Distribusi dari country : Film dari United States yang paling banyak ada di netflix.\n",
    "6. Distribusi dari listed_in(genre) : Genre yang paling banyak adalah Dramas, International Movies"
   ]
  },
  {
   "cell_type": "code",
   "execution_count": 6,
   "id": "f6976d52",
   "metadata": {},
   "outputs": [
    {
     "data": {
      "image/png": "[encoded data removed]",
      "text/plain": [
       "<Figure size 2000x2000 with 3 Axes>"
      ]
     },
     "metadata": {},
     "output_type": "display_data"
    }
   ],
   "source": [
    "cols = df[['type', 'release_year', 'rating']].columns.to_list()\n",
    "n_cols = 1\n",
    "n_rows = -(-len(cols) // n_cols)\n",
    "\n",
    "fig, axes = plt.subplots(n_rows, n_cols, figsize=(20, 20))\n",
    "axes = axes.flatten()\n",
    "\n",
    "for i, col in enumerate(cols):\n",
    "    sns.histplot(data=df, x=col, kde=True, bins=30, color='skyblue', ax=axes[i])\n",
    "    axes[i].set_title(f'Distribution of {col}')\n",
    "    axes[i].set_xlabel(col)\n",
    "    axes[i].set_ylabel('Frequency')\n",
    "\n",
    "for j in range(i + 1, len(axes)):\n",
    "    fig.delaxes(axes[j])\n",
    "\n",
    "plt.tight_layout()\n",
    "plt.show()\n"
   ]
  },
  {
   "cell_type": "markdown",
   "id": "219217f2",
   "metadata": {},
   "source": [
    "digunakan untuk melihat jumlah tanyangan berdasarkan beda durasi antar beberapa film"
   ]
  },
  {
   "cell_type": "code",
   "execution_count": 7,
   "id": "68c15566",
   "metadata": {},
   "outputs": [
    {
     "data": {
      "text/html": [
       "<div>\n",
       "<style scoped>\n",
       "    .dataframe tbody tr th:only-of-type {\n",
       "        vertical-align: middle;\n",
       "    }\n",
       "\n",
       "    .dataframe tbody tr th {\n",
       "        vertical-align: top;\n",
       "    }\n",
       "\n",
       "    .dataframe thead th {\n",
       "        text-align: right;\n",
       "    }\n",
       "</style>\n",
       "<table border=\"1\" class=\"dataframe\">\n",
       "  <thead>\n",
       "    <tr style=\"text-align: right;\">\n",
       "      <th></th>\n",
       "      <th>jumlah_tayangan</th>\n",
       "      <th>daftar_durasi</th>\n",
       "    </tr>\n",
       "  </thead>\n",
       "  <tbody>\n",
       "    <tr>\n",
       "      <th>71</th>\n",
       "      <td>122</td>\n",
       "      <td>[102 min]</td>\n",
       "    </tr>\n",
       "    <tr>\n",
       "      <th>72</th>\n",
       "      <td>129</td>\n",
       "      <td>[92 min]</td>\n",
       "    </tr>\n",
       "    <tr>\n",
       "      <th>73</th>\n",
       "      <td>130</td>\n",
       "      <td>[96 min]</td>\n",
       "    </tr>\n",
       "    <tr>\n",
       "      <th>74</th>\n",
       "      <td>137</td>\n",
       "      <td>[95 min]</td>\n",
       "    </tr>\n",
       "    <tr>\n",
       "      <th>75</th>\n",
       "      <td>144</td>\n",
       "      <td>[91 min]</td>\n",
       "    </tr>\n",
       "    <tr>\n",
       "      <th>76</th>\n",
       "      <td>146</td>\n",
       "      <td>[94 min, 97 min, 93 min]</td>\n",
       "    </tr>\n",
       "    <tr>\n",
       "      <th>77</th>\n",
       "      <td>152</td>\n",
       "      <td>[90 min]</td>\n",
       "    </tr>\n",
       "    <tr>\n",
       "      <th>78</th>\n",
       "      <td>199</td>\n",
       "      <td>[3 Seasons]</td>\n",
       "    </tr>\n",
       "    <tr>\n",
       "      <th>79</th>\n",
       "      <td>425</td>\n",
       "      <td>[2 Seasons]</td>\n",
       "    </tr>\n",
       "    <tr>\n",
       "      <th>80</th>\n",
       "      <td>1793</td>\n",
       "      <td>[1 Season]</td>\n",
       "    </tr>\n",
       "  </tbody>\n",
       "</table>\n",
       "</div>"
      ],
      "text/plain": [
       "    jumlah_tayangan             daftar_durasi\n",
       "71              122                 [102 min]\n",
       "72              129                  [92 min]\n",
       "73              130                  [96 min]\n",
       "74              137                  [95 min]\n",
       "75              144                  [91 min]\n",
       "76              146  [94 min, 97 min, 93 min]\n",
       "77              152                  [90 min]\n",
       "78              199               [3 Seasons]\n",
       "79              425               [2 Seasons]\n",
       "80             1793                [1 Season]"
      ]
     },
     "execution_count": 7,
     "metadata": {},
     "output_type": "execute_result"
    }
   ],
   "source": [
    "duration = df['duration'].value_counts()\n",
    "duration_df = duration.reset_index()\n",
    "duration_df.columns = ['duration', 'count']\n",
    "grouped_duration = duration_df.groupby('count')['duration'].apply(list).reset_index()\n",
    "grouped_duration.columns = ['jumlah_tayangan', 'daftar_durasi']\n",
    "grouped_duration.tail(10)"
   ]
  },
  {
   "cell_type": "markdown",
   "id": "4bd7df69",
   "metadata": {},
   "source": [
    "digunakan untuk melihat jumlah tayangan berdasarkan nama negara yang ada di netflix"
   ]
  },
  {
   "cell_type": "code",
   "execution_count": 8,
   "id": "4332346a",
   "metadata": {},
   "outputs": [
    {
     "data": {
      "text/html": [
       "<div>\n",
       "<style scoped>\n",
       "    .dataframe tbody tr th:only-of-type {\n",
       "        vertical-align: middle;\n",
       "    }\n",
       "\n",
       "    .dataframe tbody tr th {\n",
       "        vertical-align: top;\n",
       "    }\n",
       "\n",
       "    .dataframe thead th {\n",
       "        text-align: right;\n",
       "    }\n",
       "</style>\n",
       "<table border=\"1\" class=\"dataframe\">\n",
       "  <thead>\n",
       "    <tr style=\"text-align: right;\">\n",
       "      <th></th>\n",
       "      <th>jumlah_tayangan</th>\n",
       "      <th>daftar_negara</th>\n",
       "    </tr>\n",
       "  </thead>\n",
       "  <tbody>\n",
       "    <tr>\n",
       "      <th>40</th>\n",
       "      <td>106</td>\n",
       "      <td>[Egypt]</td>\n",
       "    </tr>\n",
       "    <tr>\n",
       "      <th>41</th>\n",
       "      <td>110</td>\n",
       "      <td>[Mexico]</td>\n",
       "    </tr>\n",
       "    <tr>\n",
       "      <th>42</th>\n",
       "      <td>124</td>\n",
       "      <td>[France]</td>\n",
       "    </tr>\n",
       "    <tr>\n",
       "      <th>43</th>\n",
       "      <td>145</td>\n",
       "      <td>[Spain]</td>\n",
       "    </tr>\n",
       "    <tr>\n",
       "      <th>44</th>\n",
       "      <td>181</td>\n",
       "      <td>[Canada]</td>\n",
       "    </tr>\n",
       "    <tr>\n",
       "      <th>45</th>\n",
       "      <td>199</td>\n",
       "      <td>[South Korea]</td>\n",
       "    </tr>\n",
       "    <tr>\n",
       "      <th>46</th>\n",
       "      <td>245</td>\n",
       "      <td>[Japan]</td>\n",
       "    </tr>\n",
       "    <tr>\n",
       "      <th>47</th>\n",
       "      <td>419</td>\n",
       "      <td>[United Kingdom]</td>\n",
       "    </tr>\n",
       "    <tr>\n",
       "      <th>48</th>\n",
       "      <td>972</td>\n",
       "      <td>[India]</td>\n",
       "    </tr>\n",
       "    <tr>\n",
       "      <th>49</th>\n",
       "      <td>2818</td>\n",
       "      <td>[United States]</td>\n",
       "    </tr>\n",
       "  </tbody>\n",
       "</table>\n",
       "</div>"
      ],
      "text/plain": [
       "    jumlah_tayangan     daftar_negara\n",
       "40              106           [Egypt]\n",
       "41              110          [Mexico]\n",
       "42              124          [France]\n",
       "43              145           [Spain]\n",
       "44              181          [Canada]\n",
       "45              199     [South Korea]\n",
       "46              245           [Japan]\n",
       "47              419  [United Kingdom]\n",
       "48              972           [India]\n",
       "49             2818   [United States]"
      ]
     },
     "execution_count": 8,
     "metadata": {},
     "output_type": "execute_result"
    }
   ],
   "source": [
    "country = df['country'].value_counts()\n",
    "country_df = country.reset_index()\n",
    "country_df.columns = ['country', 'count']\n",
    "grouped_country = country_df.groupby('count')['country'].apply(list).reset_index()\n",
    "grouped_country.columns = ['jumlah_tayangan', 'daftar_negara']\n",
    "grouped_country.tail(10)"
   ]
  },
  {
   "cell_type": "markdown",
   "id": "d288f638",
   "metadata": {},
   "source": [
    "digunakan untuk melihat jumlah tayangan berdasarkan genre yang ada, genrenya berbentuk array dengan minimal 1 genre dan banyak yang lebih dari 1 genre"
   ]
  },
  {
   "cell_type": "code",
   "execution_count": 9,
   "id": "e10b384d",
   "metadata": {},
   "outputs": [
    {
     "data": {
      "text/html": [
       "<div>\n",
       "<style scoped>\n",
       "    .dataframe tbody tr th:only-of-type {\n",
       "        vertical-align: middle;\n",
       "    }\n",
       "\n",
       "    .dataframe tbody tr th {\n",
       "        vertical-align: top;\n",
       "    }\n",
       "\n",
       "    .dataframe thead th {\n",
       "        text-align: right;\n",
       "    }\n",
       "</style>\n",
       "<table border=\"1\" class=\"dataframe\">\n",
       "  <thead>\n",
       "    <tr style=\"text-align: right;\">\n",
       "      <th></th>\n",
       "      <th>jumlah_tayangan</th>\n",
       "      <th>daftar_genre</th>\n",
       "    </tr>\n",
       "  </thead>\n",
       "  <tbody>\n",
       "    <tr>\n",
       "      <th>69</th>\n",
       "      <td>180</td>\n",
       "      <td>[Dramas, International Movies, Romantic Movies]</td>\n",
       "    </tr>\n",
       "    <tr>\n",
       "      <th>70</th>\n",
       "      <td>186</td>\n",
       "      <td>[Documentaries, International Movies]</td>\n",
       "    </tr>\n",
       "    <tr>\n",
       "      <th>71</th>\n",
       "      <td>201</td>\n",
       "      <td>[Children &amp; Family Movies, Comedies]</td>\n",
       "    </tr>\n",
       "    <tr>\n",
       "      <th>72</th>\n",
       "      <td>215</td>\n",
       "      <td>[Children &amp; Family Movies]</td>\n",
       "    </tr>\n",
       "    <tr>\n",
       "      <th>73</th>\n",
       "      <td>220</td>\n",
       "      <td>[Kids' TV]</td>\n",
       "    </tr>\n",
       "    <tr>\n",
       "      <th>74</th>\n",
       "      <td>252</td>\n",
       "      <td>[Dramas, Independent Movies, International Mov...</td>\n",
       "    </tr>\n",
       "    <tr>\n",
       "      <th>75</th>\n",
       "      <td>274</td>\n",
       "      <td>[Comedies, Dramas, International Movies]</td>\n",
       "    </tr>\n",
       "    <tr>\n",
       "      <th>76</th>\n",
       "      <td>334</td>\n",
       "      <td>[Stand-Up Comedy]</td>\n",
       "    </tr>\n",
       "    <tr>\n",
       "      <th>77</th>\n",
       "      <td>359</td>\n",
       "      <td>[Documentaries]</td>\n",
       "    </tr>\n",
       "    <tr>\n",
       "      <th>78</th>\n",
       "      <td>362</td>\n",
       "      <td>[Dramas, International Movies]</td>\n",
       "    </tr>\n",
       "  </tbody>\n",
       "</table>\n",
       "</div>"
      ],
      "text/plain": [
       "    jumlah_tayangan                                       daftar_genre\n",
       "69              180    [Dramas, International Movies, Romantic Movies]\n",
       "70              186              [Documentaries, International Movies]\n",
       "71              201               [Children & Family Movies, Comedies]\n",
       "72              215                         [Children & Family Movies]\n",
       "73              220                                         [Kids' TV]\n",
       "74              252  [Dramas, Independent Movies, International Mov...\n",
       "75              274           [Comedies, Dramas, International Movies]\n",
       "76              334                                  [Stand-Up Comedy]\n",
       "77              359                                    [Documentaries]\n",
       "78              362                     [Dramas, International Movies]"
      ]
     },
     "execution_count": 9,
     "metadata": {},
     "output_type": "execute_result"
    }
   ],
   "source": [
    "listed_in = df['listed_in'].value_counts()\n",
    "listed_in_df = listed_in.reset_index()\n",
    "listed_in_df.columns = ['listed_in', 'count']\n",
    "grouped_listed_in = listed_in_df.groupby('count')['listed_in'].apply(list).reset_index()\n",
    "grouped_listed_in.columns = ['jumlah_tayangan', 'daftar_genre']\n",
    "grouped_listed_in.tail(10)"
   ]
  },
  {
   "cell_type": "markdown",
   "id": "b7a804ee",
   "metadata": {},
   "source": [
    "#### Pengecekan Missing Value\n",
    "- Kode ini digunakan untuk mengecek apakah di dalam kolom yang ada di df terdapat missing value, kemudian di print atau ditampilkan. \n",
    "- Hasilnya adalah ada beberapa fitur seperti directior, cast, country, data_added, rating, duration yang memiliki missing value."
   ]
  },
  {
   "cell_type": "code",
   "execution_count": 10,
   "id": "c2b5ee3b",
   "metadata": {},
   "outputs": [
    {
     "name": "stdout",
     "output_type": "stream",
     "text": [
      "show_id            0\n",
      "type               0\n",
      "title              0\n",
      "director        2634\n",
      "cast             825\n",
      "country          831\n",
      "date_added        10\n",
      "release_year       0\n",
      "rating             4\n",
      "duration           3\n",
      "listed_in          0\n",
      "description        0\n",
      "dtype: int64\n"
     ]
    }
   ],
   "source": [
    "missing_values = df.isnull().sum()\n",
    "print(missing_values)"
   ]
  },
  {
   "cell_type": "markdown",
   "id": "812d8dc1",
   "metadata": {},
   "source": [
    "#### Pengecekan Duplikat Value\n",
    "- Kode ini digunakan untuk mengecek apakah di dalam kolom yang ada di df terdapat data yang duplikat, kemudian di print atau ditampilkan. \n",
    "- Hasilnya adalah tidak ada data yang duplikat disemua kolom"
   ]
  },
  {
   "cell_type": "code",
   "execution_count": null,
   "id": "ceb937e5",
   "metadata": {},
   "outputs": [
    {
     "name": "stdout",
     "output_type": "stream",
     "text": [
      "\n",
      "Jumlah baris duplikat: 0\n"
     ]
    }
   ],
   "source": [
    "duplicate_rows = df.duplicated()\n",
    "print(f\"\\nJumlah baris duplikat: {duplicate_rows.sum()}\")"
   ]
  },
  {
   "cell_type": "markdown",
   "id": "29d5d7d3",
   "metadata": {},
   "source": [
    "#### Pengecekan Outlier\n",
    "\n",
    "Kode ini melakukan deteksi outlier pada kolom release_year menggunakan metode Interquartile Range (IQR), lalu memvisualisasikan outlier. Pertama, kode menghitung nilai Q1 (kuartil pertama), Q3 (kuartil ketiga), dan IQR untuk setiap kolom numerik, kemudian menentukan batas bawah dan atas untuk mendeteksi outlier berdasarkan rumus IQR. Jumlah outlier yang ditemukan pada setiap kolom ditampilkan sebagai output. Setelah itu, divisualisasikan dalam bentuk histogram distribusi tahun rilis film. Namun outlier ini nantinya tidak akan diproses lebih lanjut, outlier didalam film menunjukkan bahwa nilai-nilai tersebut valid, karena film lama dari tahun 1970-an atau 1990-an memang ada dan bukan merupakan kesalahan data."
   ]
  },
  {
   "cell_type": "code",
   "execution_count": 52,
   "id": "e59b5965",
   "metadata": {},
   "outputs": [
    {
     "name": "stdout",
     "output_type": "stream",
     "text": [
      "\n",
      "Outlier detection per kolom:\n",
      "release_year: 719 outliers\n"
     ]
    },
    {
     "data": {
      "image/png": "[encoded data removed]",
      "text/plain": [
       "<Figure size 1200x600 with 1 Axes>"
      ]
     },
     "metadata": {},
     "output_type": "display_data"
    }
   ],
   "source": [
    "numeric_cols = df.select_dtypes(include=['number']).columns\n",
    "\n",
    "print(\"\\nOutlier detection per kolom:\")\n",
    "for col in numeric_cols:\n",
    "    Q1 = df[col].quantile(0.25)\n",
    "    Q3 = df[col].quantile(0.75)\n",
    "    IQR = Q3 - Q1\n",
    "    lower_bound = Q1 - 1.5 * IQR\n",
    "    upper_bound = Q3 + 1.5 * IQR\n",
    "    outliers = df[(df[col] < lower_bound) | (df[col] > upper_bound)]\n",
    "    print(f\"{col}: {len(outliers)} outliers\")\n",
    "\n",
    "Q1 = df['release_year'].quantile(0.25)\n",
    "Q3 = df['release_year'].quantile(0.75)\n",
    "IQR = Q3 - Q1\n",
    "lower_bound = Q1 - 1.5 * IQR\n",
    "upper_bound = Q3 + 1.5 * IQR\n",
    "\n",
    "df['is_outlier'] = (df['release_year'] < lower_bound) | (df['release_year'] > upper_bound)\n",
    "\n",
    "plt.figure(figsize=(12,6))\n",
    "sns.histplot(df['release_year'], bins=50, kde=False, color='skyblue', label='All years')\n",
    "\n",
    "outliers = df[df['is_outlier']]\n",
    "plt.scatter(outliers['release_year'], [0]*len(outliers), color='red', label='Outliers', marker='x')\n",
    "\n",
    "plt.xlabel('Release Year')\n",
    "plt.ylabel('Count')\n",
    "plt.title('Distribution of Release Year with Outliers Marked')\n",
    "plt.legend()\n",
    "plt.show()\n"
   ]
  },
  {
   "cell_type": "markdown",
   "id": "8b649aa4",
   "metadata": {},
   "source": [
    "## Data Preparation"
   ]
  },
  {
   "cell_type": "markdown",
   "id": "27f4f996",
   "metadata": {},
   "source": [
    "### Data Preprocessing"
   ]
  },
  {
   "cell_type": "markdown",
   "id": "2694b2cb",
   "metadata": {},
   "source": [
    "#### Menghapus Missing Value"
   ]
  },
  {
   "cell_type": "markdown",
   "id": "d56442de",
   "metadata": {},
   "source": [
    "Kode ini mendefinisikan dan menerapkan fungsi untuk menghapus missing value pada fitur type, description dan listed in. dikarenakan saya akan membuat rekomendasi content-based filtering berdasarkan fitur tersebut. untuk hasilnya tidak ada yang terpotong."
   ]
  },
  {
   "cell_type": "code",
   "execution_count": 11,
   "id": "fe96ccc6",
   "metadata": {},
   "outputs": [
    {
     "name": "stdout",
     "output_type": "stream",
     "text": [
      "Data setelah menghapus outlier: (8807, 12)\n"
     ]
    }
   ],
   "source": [
    "df_cleaned = df.dropna(subset=['type', 'description', 'listed_in'])\n",
    "print(\"Data setelah menghapus outlier:\", df_cleaned.shape)"
   ]
  },
  {
   "cell_type": "markdown",
   "id": "45e9fce8",
   "metadata": {},
   "source": [
    "Untuk fitur type, description, dan listed_in saya gabung dikarenakan TfidfVectorizer hanya bisa di-fit ke satu kolom teks. sehingga untuk fitur genre, type, description, dll, akan saya gabungkan dulu menjadi satu string panjang yang mewakili isi/identitas item. Untuk Content-based filtering sendiri bertujuan untuk merekomendasikan item berdasarkan kemiripan deskripsi/karakteristik kontennya"
   ]
  },
  {
   "cell_type": "code",
   "execution_count": 12,
   "id": "a0c1c4c9",
   "metadata": {},
   "outputs": [
    {
     "data": {
      "text/html": [
       "<div>\n",
       "<style scoped>\n",
       "    .dataframe tbody tr th:only-of-type {\n",
       "        vertical-align: middle;\n",
       "    }\n",
       "\n",
       "    .dataframe tbody tr th {\n",
       "        vertical-align: top;\n",
       "    }\n",
       "\n",
       "    .dataframe thead th {\n",
       "        text-align: right;\n",
       "    }\n",
       "</style>\n",
       "<table border=\"1\" class=\"dataframe\">\n",
       "  <thead>\n",
       "    <tr style=\"text-align: right;\">\n",
       "      <th></th>\n",
       "      <th>show_id</th>\n",
       "      <th>type</th>\n",
       "      <th>title</th>\n",
       "      <th>director</th>\n",
       "      <th>cast</th>\n",
       "      <th>country</th>\n",
       "      <th>date_added</th>\n",
       "      <th>release_year</th>\n",
       "      <th>rating</th>\n",
       "      <th>duration</th>\n",
       "      <th>listed_in</th>\n",
       "      <th>description</th>\n",
       "      <th>content</th>\n",
       "    </tr>\n",
       "  </thead>\n",
       "  <tbody>\n",
       "    <tr>\n",
       "      <th>0</th>\n",
       "      <td>s1</td>\n",
       "      <td>Movie</td>\n",
       "      <td>Dick Johnson Is Dead</td>\n",
       "      <td>Kirsten Johnson</td>\n",
       "      <td>NaN</td>\n",
       "      <td>United States</td>\n",
       "      <td>September 25, 2021</td>\n",
       "      <td>2020</td>\n",
       "      <td>PG-13</td>\n",
       "      <td>90 min</td>\n",
       "      <td>Documentaries</td>\n",
       "      <td>As her father nears the end of his life, filmm...</td>\n",
       "      <td>Movie Documentaries As her father nears the en...</td>\n",
       "    </tr>\n",
       "    <tr>\n",
       "      <th>1</th>\n",
       "      <td>s2</td>\n",
       "      <td>TV Show</td>\n",
       "      <td>Blood &amp; Water</td>\n",
       "      <td>NaN</td>\n",
       "      <td>Ama Qamata, Khosi Ngema, Gail Mabalane, Thaban...</td>\n",
       "      <td>South Africa</td>\n",
       "      <td>September 24, 2021</td>\n",
       "      <td>2021</td>\n",
       "      <td>TV-MA</td>\n",
       "      <td>2 Seasons</td>\n",
       "      <td>International TV Shows, TV Dramas, TV Mysteries</td>\n",
       "      <td>After crossing paths at a party, a Cape Town t...</td>\n",
       "      <td>TV Show International TV Shows, TV Dramas, TV ...</td>\n",
       "    </tr>\n",
       "    <tr>\n",
       "      <th>2</th>\n",
       "      <td>s3</td>\n",
       "      <td>TV Show</td>\n",
       "      <td>Ganglands</td>\n",
       "      <td>Julien Leclercq</td>\n",
       "      <td>Sami Bouajila, Tracy Gotoas, Samuel Jouy, Nabi...</td>\n",
       "      <td>NaN</td>\n",
       "      <td>September 24, 2021</td>\n",
       "      <td>2021</td>\n",
       "      <td>TV-MA</td>\n",
       "      <td>1 Season</td>\n",
       "      <td>Crime TV Shows, International TV Shows, TV Act...</td>\n",
       "      <td>To protect his family from a powerful drug lor...</td>\n",
       "      <td>TV Show Crime TV Shows, International TV Shows...</td>\n",
       "    </tr>\n",
       "    <tr>\n",
       "      <th>3</th>\n",
       "      <td>s4</td>\n",
       "      <td>TV Show</td>\n",
       "      <td>Jailbirds New Orleans</td>\n",
       "      <td>NaN</td>\n",
       "      <td>NaN</td>\n",
       "      <td>NaN</td>\n",
       "      <td>September 24, 2021</td>\n",
       "      <td>2021</td>\n",
       "      <td>TV-MA</td>\n",
       "      <td>1 Season</td>\n",
       "      <td>Docuseries, Reality TV</td>\n",
       "      <td>Feuds, flirtations and toilet talk go down amo...</td>\n",
       "      <td>TV Show Docuseries, Reality TV Feuds, flirtati...</td>\n",
       "    </tr>\n",
       "    <tr>\n",
       "      <th>4</th>\n",
       "      <td>s5</td>\n",
       "      <td>TV Show</td>\n",
       "      <td>Kota Factory</td>\n",
       "      <td>NaN</td>\n",
       "      <td>Mayur More, Jitendra Kumar, Ranjan Raj, Alam K...</td>\n",
       "      <td>India</td>\n",
       "      <td>September 24, 2021</td>\n",
       "      <td>2021</td>\n",
       "      <td>TV-MA</td>\n",
       "      <td>2 Seasons</td>\n",
       "      <td>International TV Shows, Romantic TV Shows, TV ...</td>\n",
       "      <td>In a city of coaching centers known to train I...</td>\n",
       "      <td>TV Show International TV Shows, Romantic TV Sh...</td>\n",
       "    </tr>\n",
       "  </tbody>\n",
       "</table>\n",
       "</div>"
      ],
      "text/plain": [
       "  show_id     type                  title         director  \\\n",
       "0      s1    Movie   Dick Johnson Is Dead  Kirsten Johnson   \n",
       "1      s2  TV Show          Blood & Water              NaN   \n",
       "2      s3  TV Show              Ganglands  Julien Leclercq   \n",
       "3      s4  TV Show  Jailbirds New Orleans              NaN   \n",
       "4      s5  TV Show           Kota Factory              NaN   \n",
       "\n",
       "                                                cast        country  \\\n",
       "0                                                NaN  United States   \n",
       "1  Ama Qamata, Khosi Ngema, Gail Mabalane, Thaban...   South Africa   \n",
       "2  Sami Bouajila, Tracy Gotoas, Samuel Jouy, Nabi...            NaN   \n",
       "3                                                NaN            NaN   \n",
       "4  Mayur More, Jitendra Kumar, Ranjan Raj, Alam K...          India   \n",
       "\n",
       "           date_added  release_year rating   duration  \\\n",
       "0  September 25, 2021          2020  PG-13     90 min   \n",
       "1  September 24, 2021          2021  TV-MA  2 Seasons   \n",
       "2  September 24, 2021          2021  TV-MA   1 Season   \n",
       "3  September 24, 2021          2021  TV-MA   1 Season   \n",
       "4  September 24, 2021          2021  TV-MA  2 Seasons   \n",
       "\n",
       "                                           listed_in  \\\n",
       "0                                      Documentaries   \n",
       "1    International TV Shows, TV Dramas, TV Mysteries   \n",
       "2  Crime TV Shows, International TV Shows, TV Act...   \n",
       "3                             Docuseries, Reality TV   \n",
       "4  International TV Shows, Romantic TV Shows, TV ...   \n",
       "\n",
       "                                         description  \\\n",
       "0  As her father nears the end of his life, filmm...   \n",
       "1  After crossing paths at a party, a Cape Town t...   \n",
       "2  To protect his family from a powerful drug lor...   \n",
       "3  Feuds, flirtations and toilet talk go down amo...   \n",
       "4  In a city of coaching centers known to train I...   \n",
       "\n",
       "                                             content  \n",
       "0  Movie Documentaries As her father nears the en...  \n",
       "1  TV Show International TV Shows, TV Dramas, TV ...  \n",
       "2  TV Show Crime TV Shows, International TV Shows...  \n",
       "3  TV Show Docuseries, Reality TV Feuds, flirtati...  \n",
       "4  TV Show International TV Shows, Romantic TV Sh...  "
      ]
     },
     "execution_count": 12,
     "metadata": {},
     "output_type": "execute_result"
    }
   ],
   "source": [
    "df_cleaned['content'] = df_cleaned['type'] + \" \" + df_cleaned['listed_in'] + \" \" + df_cleaned['description']\n",
    "df_cleaned.head()"
   ]
  },
  {
   "cell_type": "markdown",
   "id": "63837644",
   "metadata": {},
   "source": [
    "#### TF-IDF vektorisasi\n",
    "Kode di bawah ini digunakan untuk mengubah teks menjadi numerik agar bisa digunakan untuk menghitung kemiripan antar item dalam sistem rekomendasi berbasis konten. Di sini digunakan TF-IDF Vectorizer dari scikit-learn, yang mengubah setiap dokumen teks menjadi vektor angka berdasarkan bobot kata-kata yang muncul di teks tersebut. Parameter stop_words='english' digunakan untuk menghilangkan kata-kata umum seperti \"the\", \"and\", \"is\", yang tidak memiliki makna penting. dan juga ada parameter max_features yang diatur pada 5000 saja untuk membatasi fitur dari TF-IDF"
   ]
  },
  {
   "cell_type": "code",
   "execution_count": 13,
   "id": "b9cb0aa8",
   "metadata": {},
   "outputs": [],
   "source": [
    "tfidf = TfidfVectorizer(stop_words='english', max_features=5000)\n",
    "tfidf_matrix = tfidf.fit_transform(df_cleaned['content'])"
   ]
  },
  {
   "cell_type": "markdown",
   "id": "5af31787",
   "metadata": {},
   "source": [
    "## Modelling\n",
    "\n",
    "Sistem rekomendasi ini menggunakan pendekatan **Content-Based Filtering**, yaitu memberikan rekomendasi berdasarkan kemiripan karakteristik antar item.\n"
   ]
  },
  {
   "cell_type": "markdown",
   "id": "5ec82112",
   "metadata": {},
   "source": [
    "#### Cosine Similarity\n",
    "Baris kode ini digunakan untuk menghitung skor kemiripan (similarity score) antar setiap konten yang ada dalam dataset.cosine_similarity menerima dua buah matriks TF-IDF. Hasilnya adalah matriks simetri  menunjukkan kemiripan konten antara item satu dan lainnya. Nilai cosine similarity berada di rentang 0 sampai 1, 1 yang berarti sangat mirip dan 0 yang berarti tidak mirip sama sekali"
   ]
  },
  {
   "cell_type": "code",
   "execution_count": 14,
   "id": "44c643e8",
   "metadata": {},
   "outputs": [],
   "source": [
    "cosine_sim = cosine_similarity(tfidf_matrix)"
   ]
  },
  {
   "cell_type": "markdown",
   "id": "362883dd",
   "metadata": {},
   "source": [
    "#### Indeks berdasar judul\n",
    "Baris kode ini membuat sebuah mapping dari judul ke indeks baris dataframe, yang akan digunakan untuk mencari rekomendasi berdasarkan nama judul dan drop_duplicates digunakan untuk menghindari error jika ada judul yang sama sehingga hanya mengambil satu versi saja."
   ]
  },
  {
   "cell_type": "code",
   "execution_count": 15,
   "id": "064e4816",
   "metadata": {},
   "outputs": [
    {
     "data": {
      "text/plain": [
       "title\n",
       "Dick Johnson Is Dead        0\n",
       "Blood & Water               1\n",
       "Ganglands                   2\n",
       "Jailbirds New Orleans       3\n",
       "Kota Factory                4\n",
       "                         ... \n",
       "Zodiac                   8802\n",
       "Zombie Dumb              8803\n",
       "Zombieland               8804\n",
       "Zoom                     8805\n",
       "Zubaan                   8806\n",
       "Length: 8807, dtype: int64"
      ]
     },
     "execution_count": 15,
     "metadata": {},
     "output_type": "execute_result"
    }
   ],
   "source": [
    "indices = pd.Series(df.index, index=df_cleaned['title']).drop_duplicates()\n",
    "indices"
   ]
  },
  {
   "cell_type": "markdown",
   "id": "38bc6496",
   "metadata": {},
   "source": [
    "#### Fungsi get_recommendations()\n",
    "Fungsi get_recommendations() digunakan untuk memberikan top_n = 10 atau 10 rekomendasi konten yang paling mirip berdasarkan deskripsi, genre, dan tipe konten dari judul yang diberikan/diinputkan. Dengan memanfaatkan cosine similarity dengan representasi TF-IDF, sistem ini mengukur kemiripan antar item secara tekstual dan mengembalikannya dalam bentuk judul, genre, dan deskripsi. Dan ketika judul yang dimasukkan tidak ada dalam daftar film netflix maka akan diberikan 'Judul tidak ditemukan."
   ]
  },
  {
   "cell_type": "code",
   "execution_count": 16,
   "id": "c6fc213b",
   "metadata": {},
   "outputs": [],
   "source": [
    "def get_recommendations(title, cosine_sim=cosine_sim, top_n=10):\n",
    "    if title not in indices:\n",
    "        return \"Judul tidak ditemukan.\"\n",
    "    \n",
    "    idx = indices[title]\n",
    "    sim_scores = list(enumerate(cosine_sim[idx]))\n",
    "    sim_scores = sorted(sim_scores, key=lambda x: x[1], reverse=True)\n",
    "    \n",
    "    sim_scores = sim_scores[1:top_n+1]\n",
    "    \n",
    "    recommendations = []\n",
    "    for i, score in sim_scores:\n",
    "        film_info = df_cleaned.iloc[i][['title', 'listed_in', 'type', 'description']]\n",
    "        film_info['similarity'] = round(score, 4)\n",
    "        recommendations.append(film_info)\n",
    "    \n",
    "    return pd.DataFrame(recommendations)\n"
   ]
  },
  {
   "cell_type": "markdown",
   "id": "9e8418d4",
   "metadata": {},
   "source": [
    "Hasil dari get_recommendation untuk film Kota Factory terpilih top 10 film yang hampir mirip dengan film Kota Factory, hal ini mirip dari segi genre, maupun tipe dan deskripsinya. "
   ]
  },
  {
   "cell_type": "code",
   "execution_count": 66,
   "id": "79b628bc",
   "metadata": {},
   "outputs": [
    {
     "data": {
      "text/html": [
       "<div>\n",
       "<style scoped>\n",
       "    .dataframe tbody tr th:only-of-type {\n",
       "        vertical-align: middle;\n",
       "    }\n",
       "\n",
       "    .dataframe tbody tr th {\n",
       "        vertical-align: top;\n",
       "    }\n",
       "\n",
       "    .dataframe thead th {\n",
       "        text-align: right;\n",
       "    }\n",
       "</style>\n",
       "<table border=\"1\" class=\"dataframe\">\n",
       "  <thead>\n",
       "    <tr style=\"text-align: right;\">\n",
       "      <th></th>\n",
       "      <th>index</th>\n",
       "      <th>title</th>\n",
       "      <th>listed_in</th>\n",
       "      <th>type</th>\n",
       "      <th>description</th>\n",
       "      <th>similarity</th>\n",
       "    </tr>\n",
       "  </thead>\n",
       "  <tbody>\n",
       "    <tr>\n",
       "      <th>0</th>\n",
       "      <td>7632</td>\n",
       "      <td>O-Negative, Love Can’t Be Designed</td>\n",
       "      <td>International TV Shows, Romantic TV Shows, TV ...</td>\n",
       "      <td>TV Show</td>\n",
       "      <td>Five schoolmates who share a blood type naviga...</td>\n",
       "      <td>0.3630</td>\n",
       "    </tr>\n",
       "    <tr>\n",
       "      <th>1</th>\n",
       "      <td>3461</td>\n",
       "      <td>Cheese in the Trap</td>\n",
       "      <td>International TV Shows, Korean TV Shows, Roman...</td>\n",
       "      <td>TV Show</td>\n",
       "      <td>In this adaptation of a popular webtoon, a poo...</td>\n",
       "      <td>0.3404</td>\n",
       "    </tr>\n",
       "    <tr>\n",
       "      <th>2</th>\n",
       "      <td>4265</td>\n",
       "      <td>Single Ladies Senior</td>\n",
       "      <td>International TV Shows, Romantic TV Shows, TV ...</td>\n",
       "      <td>TV Show</td>\n",
       "      <td>Four best friends and spirited career women na...</td>\n",
       "      <td>0.3040</td>\n",
       "    </tr>\n",
       "    <tr>\n",
       "      <th>3</th>\n",
       "      <td>805</td>\n",
       "      <td>Racket Boys</td>\n",
       "      <td>International TV Shows, TV Comedies, TV Dramas</td>\n",
       "      <td>TV Show</td>\n",
       "      <td>A city kid is brought to the countryside by hi...</td>\n",
       "      <td>0.3006</td>\n",
       "    </tr>\n",
       "    <tr>\n",
       "      <th>4</th>\n",
       "      <td>2362</td>\n",
       "      <td>The Politician</td>\n",
       "      <td>TV Comedies, TV Dramas, Teen TV Shows</td>\n",
       "      <td>TV Show</td>\n",
       "      <td>Rich kid Payton has always known he's going to...</td>\n",
       "      <td>0.2958</td>\n",
       "    </tr>\n",
       "    <tr>\n",
       "      <th>5</th>\n",
       "      <td>8165</td>\n",
       "      <td>Teresa</td>\n",
       "      <td>International TV Shows, Romantic TV Shows, Spa...</td>\n",
       "      <td>TV Show</td>\n",
       "      <td>We all want so much more than we have, but how...</td>\n",
       "      <td>0.2884</td>\n",
       "    </tr>\n",
       "    <tr>\n",
       "      <th>6</th>\n",
       "      <td>2631</td>\n",
       "      <td>My Secret Romance</td>\n",
       "      <td>International TV Shows, Korean TV Shows, Roman...</td>\n",
       "      <td>TV Show</td>\n",
       "      <td>A nutritionist gets entangled in a series of m...</td>\n",
       "      <td>0.2841</td>\n",
       "    </tr>\n",
       "    <tr>\n",
       "      <th>7</th>\n",
       "      <td>8334</td>\n",
       "      <td>The Great Train Robbery</td>\n",
       "      <td>British TV Shows, Crime TV Shows, Internationa...</td>\n",
       "      <td>TV Show</td>\n",
       "      <td>This two-part tale delivers the true story of ...</td>\n",
       "      <td>0.2839</td>\n",
       "    </tr>\n",
       "    <tr>\n",
       "      <th>8</th>\n",
       "      <td>3130</td>\n",
       "      <td>Crazy, Lovely, Cool</td>\n",
       "      <td>International TV Shows, TV Dramas</td>\n",
       "      <td>TV Show</td>\n",
       "      <td>For a group of charismatic undergraduates, the...</td>\n",
       "      <td>0.2789</td>\n",
       "    </tr>\n",
       "    <tr>\n",
       "      <th>9</th>\n",
       "      <td>3640</td>\n",
       "      <td>My First First Love</td>\n",
       "      <td>International TV Shows, Korean TV Shows, Roman...</td>\n",
       "      <td>TV Show</td>\n",
       "      <td>Due to various personal reasons, a group of Yu...</td>\n",
       "      <td>0.2785</td>\n",
       "    </tr>\n",
       "  </tbody>\n",
       "</table>\n",
       "</div>"
      ],
      "text/plain": [
       "   index                               title  \\\n",
       "0   7632  O-Negative, Love Can’t Be Designed   \n",
       "1   3461                  Cheese in the Trap   \n",
       "2   4265                Single Ladies Senior   \n",
       "3    805                         Racket Boys   \n",
       "4   2362                      The Politician   \n",
       "5   8165                              Teresa   \n",
       "6   2631                   My Secret Romance   \n",
       "7   8334             The Great Train Robbery   \n",
       "8   3130                 Crazy, Lovely, Cool   \n",
       "9   3640                 My First First Love   \n",
       "\n",
       "                                           listed_in     type  \\\n",
       "0  International TV Shows, Romantic TV Shows, TV ...  TV Show   \n",
       "1  International TV Shows, Korean TV Shows, Roman...  TV Show   \n",
       "2  International TV Shows, Romantic TV Shows, TV ...  TV Show   \n",
       "3     International TV Shows, TV Comedies, TV Dramas  TV Show   \n",
       "4              TV Comedies, TV Dramas, Teen TV Shows  TV Show   \n",
       "5  International TV Shows, Romantic TV Shows, Spa...  TV Show   \n",
       "6  International TV Shows, Korean TV Shows, Roman...  TV Show   \n",
       "7  British TV Shows, Crime TV Shows, Internationa...  TV Show   \n",
       "8                  International TV Shows, TV Dramas  TV Show   \n",
       "9  International TV Shows, Korean TV Shows, Roman...  TV Show   \n",
       "\n",
       "                                         description  similarity  \n",
       "0  Five schoolmates who share a blood type naviga...      0.3630  \n",
       "1  In this adaptation of a popular webtoon, a poo...      0.3404  \n",
       "2  Four best friends and spirited career women na...      0.3040  \n",
       "3  A city kid is brought to the countryside by hi...      0.3006  \n",
       "4  Rich kid Payton has always known he's going to...      0.2958  \n",
       "5  We all want so much more than we have, but how...      0.2884  \n",
       "6  A nutritionist gets entangled in a series of m...      0.2841  \n",
       "7  This two-part tale delivers the true story of ...      0.2839  \n",
       "8  For a group of charismatic undergraduates, the...      0.2789  \n",
       "9  Due to various personal reasons, a group of Yu...      0.2785  "
      ]
     },
     "execution_count": 66,
     "metadata": {},
     "output_type": "execute_result"
    }
   ],
   "source": [
    "get_recommendations(\"Kota Factory\").reset_index()"
   ]
  },
  {
   "cell_type": "markdown",
   "id": "8d53ab75",
   "metadata": {},
   "source": [
    "## Evaluasi"
   ]
  },
  {
   "cell_type": "markdown",
   "id": "e9322f0a",
   "metadata": {},
   "source": [
    "#### Hasil Evaluasi Model Manual\n",
    "Baris kode ini menginisialisasi variabel nama dengan Narcos yang nantinya akan digunakan untuk mencari rekomendasi film. Selain itu baris ini juga menampilkan hasil dari film narcos beruba judul, genre, deskripsi dan tipe. "
   ]
  },
  {
   "cell_type": "code",
   "execution_count": 41,
   "id": "8f3f3057",
   "metadata": {},
   "outputs": [
    {
     "data": {
      "text/html": [
       "<div>\n",
       "<style scoped>\n",
       "    .dataframe tbody tr th:only-of-type {\n",
       "        vertical-align: middle;\n",
       "    }\n",
       "\n",
       "    .dataframe tbody tr th {\n",
       "        vertical-align: top;\n",
       "    }\n",
       "\n",
       "    .dataframe thead th {\n",
       "        text-align: right;\n",
       "    }\n",
       "</style>\n",
       "<table border=\"1\" class=\"dataframe\">\n",
       "  <thead>\n",
       "    <tr style=\"text-align: right;\">\n",
       "      <th></th>\n",
       "      <th>title</th>\n",
       "      <th>listed_in</th>\n",
       "      <th>description</th>\n",
       "      <th>type</th>\n",
       "    </tr>\n",
       "  </thead>\n",
       "  <tbody>\n",
       "    <tr>\n",
       "      <th>5305</th>\n",
       "      <td>Narcos</td>\n",
       "      <td>Crime TV Shows, TV Action &amp; Adventure, TV Dramas</td>\n",
       "      <td>The true story of Colombia's infamously violen...</td>\n",
       "      <td>TV Show</td>\n",
       "    </tr>\n",
       "  </tbody>\n",
       "</table>\n",
       "</div>"
      ],
      "text/plain": [
       "       title                                         listed_in  \\\n",
       "5305  Narcos  Crime TV Shows, TV Action & Adventure, TV Dramas   \n",
       "\n",
       "                                            description     type  \n",
       "5305  The true story of Colombia's infamously violen...  TV Show  "
      ]
     },
     "execution_count": 41,
     "metadata": {},
     "output_type": "execute_result"
    }
   ],
   "source": [
    "nama = \"Narcos\"\n",
    "df[df['title'] == nama][['title', 'listed_in', 'description', 'type']]\n"
   ]
  },
  {
   "cell_type": "markdown",
   "id": "13d62b49",
   "metadata": {},
   "source": [
    "Baris kode ini menjalankan fungsi get_recommendations() untuk judul \"Narcos\", dan mengembalikan 10 konten lain yang paling mirip secara konten dengan \"Narcos\". ketika fungsi dijalankan maka sistem akan mengecek apakah judul terdapat di film yang ada di netflix, kemudian mengambil similiarity yang paling tinggi nilainya kemudian mengambil 10 konten yang nilainya paling tinggi. \n",
    "\n",
    "Dengan menampilkan output berupa judul yang berisi konten yang mirip dengan \"Narcos\""
   ]
  },
  {
   "cell_type": "code",
   "execution_count": 40,
   "id": "29116522",
   "metadata": {},
   "outputs": [
    {
     "data": {
      "text/html": [
       "<div>\n",
       "<style scoped>\n",
       "    .dataframe tbody tr th:only-of-type {\n",
       "        vertical-align: middle;\n",
       "    }\n",
       "\n",
       "    .dataframe tbody tr th {\n",
       "        vertical-align: top;\n",
       "    }\n",
       "\n",
       "    .dataframe thead th {\n",
       "        text-align: right;\n",
       "    }\n",
       "</style>\n",
       "<table border=\"1\" class=\"dataframe\">\n",
       "  <thead>\n",
       "    <tr style=\"text-align: right;\">\n",
       "      <th></th>\n",
       "      <th>title</th>\n",
       "      <th>listed_in</th>\n",
       "      <th>type</th>\n",
       "      <th>description</th>\n",
       "      <th>similarity</th>\n",
       "    </tr>\n",
       "  </thead>\n",
       "  <tbody>\n",
       "    <tr>\n",
       "      <th>8424</th>\n",
       "      <td>The Ministry of Time</td>\n",
       "      <td>International TV Shows, Spanish-Language TV Sh...</td>\n",
       "      <td>TV Show</td>\n",
       "      <td>Three officers from different eras work for a ...</td>\n",
       "      <td>0.3041</td>\n",
       "    </tr>\n",
       "    <tr>\n",
       "      <th>4366</th>\n",
       "      <td>Fugitiva</td>\n",
       "      <td>Crime TV Shows, International TV Shows, Spanis...</td>\n",
       "      <td>TV Show</td>\n",
       "      <td>A domestic abuse survivor orchestrates an elab...</td>\n",
       "      <td>0.2990</td>\n",
       "    </tr>\n",
       "    <tr>\n",
       "      <th>8165</th>\n",
       "      <td>Teresa</td>\n",
       "      <td>International TV Shows, Romantic TV Shows, Spa...</td>\n",
       "      <td>TV Show</td>\n",
       "      <td>We all want so much more than we have, but how...</td>\n",
       "      <td>0.2987</td>\n",
       "    </tr>\n",
       "    <tr>\n",
       "      <th>109</th>\n",
       "      <td>La casa de papel</td>\n",
       "      <td>Crime TV Shows, International TV Shows, Spanis...</td>\n",
       "      <td>TV Show</td>\n",
       "      <td>Eight thieves take hostages and lock themselve...</td>\n",
       "      <td>0.2967</td>\n",
       "    </tr>\n",
       "    <tr>\n",
       "      <th>715</th>\n",
       "      <td>Elite Short Stories: Nadia Guzmán</td>\n",
       "      <td>International TV Shows, Romantic TV Shows, Spa...</td>\n",
       "      <td>TV Show</td>\n",
       "      <td>Nadia feels conflicted about whether or not to...</td>\n",
       "      <td>0.2839</td>\n",
       "    </tr>\n",
       "    <tr>\n",
       "      <th>5514</th>\n",
       "      <td>Mar de Plástico</td>\n",
       "      <td>Crime TV Shows, International TV Shows, Spanis...</td>\n",
       "      <td>TV Show</td>\n",
       "      <td>In a town in southern Spain where racial tensi...</td>\n",
       "      <td>0.2750</td>\n",
       "    </tr>\n",
       "    <tr>\n",
       "      <th>165</th>\n",
       "      <td>Oldsters</td>\n",
       "      <td>Crime TV Shows, International TV Shows, Spanis...</td>\n",
       "      <td>TV Show</td>\n",
       "      <td>Three friends in their 70s step out of retirem...</td>\n",
       "      <td>0.2738</td>\n",
       "    </tr>\n",
       "    <tr>\n",
       "      <th>2846</th>\n",
       "      <td>Velvet</td>\n",
       "      <td>International TV Shows, Romantic TV Shows, Spa...</td>\n",
       "      <td>TV Show</td>\n",
       "      <td>In 1950s Spain, the heir to a fashion house ro...</td>\n",
       "      <td>0.2720</td>\n",
       "    </tr>\n",
       "    <tr>\n",
       "      <th>7800</th>\n",
       "      <td>Psiconautas</td>\n",
       "      <td>International TV Shows, Spanish-Language TV Sh...</td>\n",
       "      <td>TV Show</td>\n",
       "      <td>A Spanish con man masquerades as a therapist a...</td>\n",
       "      <td>0.2700</td>\n",
       "    </tr>\n",
       "    <tr>\n",
       "      <th>1840</th>\n",
       "      <td>Someone Has to Die</td>\n",
       "      <td>Crime TV Shows, International TV Shows, Spanis...</td>\n",
       "      <td>TV Show</td>\n",
       "      <td>In conservative 1950s Spain, the alleged relat...</td>\n",
       "      <td>0.2694</td>\n",
       "    </tr>\n",
       "  </tbody>\n",
       "</table>\n",
       "</div>"
      ],
      "text/plain": [
       "                                  title  \\\n",
       "8424               The Ministry of Time   \n",
       "4366                           Fugitiva   \n",
       "8165                             Teresa   \n",
       "109                    La casa de papel   \n",
       "715   Elite Short Stories: Nadia Guzmán   \n",
       "5514                    Mar de Plástico   \n",
       "165                            Oldsters   \n",
       "2846                             Velvet   \n",
       "7800                        Psiconautas   \n",
       "1840                 Someone Has to Die   \n",
       "\n",
       "                                              listed_in     type  \\\n",
       "8424  International TV Shows, Spanish-Language TV Sh...  TV Show   \n",
       "4366  Crime TV Shows, International TV Shows, Spanis...  TV Show   \n",
       "8165  International TV Shows, Romantic TV Shows, Spa...  TV Show   \n",
       "109   Crime TV Shows, International TV Shows, Spanis...  TV Show   \n",
       "715   International TV Shows, Romantic TV Shows, Spa...  TV Show   \n",
       "5514  Crime TV Shows, International TV Shows, Spanis...  TV Show   \n",
       "165   Crime TV Shows, International TV Shows, Spanis...  TV Show   \n",
       "2846  International TV Shows, Romantic TV Shows, Spa...  TV Show   \n",
       "7800  International TV Shows, Spanish-Language TV Sh...  TV Show   \n",
       "1840  Crime TV Shows, International TV Shows, Spanis...  TV Show   \n",
       "\n",
       "                                            description  similarity  \n",
       "8424  Three officers from different eras work for a ...      0.3041  \n",
       "4366  A domestic abuse survivor orchestrates an elab...      0.2990  \n",
       "8165  We all want so much more than we have, but how...      0.2987  \n",
       "109   Eight thieves take hostages and lock themselve...      0.2967  \n",
       "715   Nadia feels conflicted about whether or not to...      0.2839  \n",
       "5514  In a town in southern Spain where racial tensi...      0.2750  \n",
       "165   Three friends in their 70s step out of retirem...      0.2738  \n",
       "2846  In 1950s Spain, the heir to a fashion house ro...      0.2720  \n",
       "7800  A Spanish con man masquerades as a therapist a...      0.2700  \n",
       "1840  In conservative 1950s Spain, the alleged relat...      0.2694  "
      ]
     },
     "execution_count": 40,
     "metadata": {},
     "output_type": "execute_result"
    }
   ],
   "source": [
    "get_recommendations(nama)"
   ]
  },
  {
   "cell_type": "code",
   "execution_count": null,
   "id": "d7f9c53f",
   "metadata": {},
   "outputs": [],
   "source": []
  },
  {
   "cell_type": "markdown",
   "id": "31e17253",
   "metadata": {},
   "source": [
    "### Evaluasi model menggunakan Precision@10 dan Recall@10\n",
    "\n",
    "#### Fungsi precision_recall() \n",
    "\n",
    "Fungsi ini digunakan untuk mengevaluasi kualitas hasil rekomendasi dari sistem berdasarkan input judul film atau acara. Fungsi ini menerima tiga parameter: title, relevant_keywords, dan 10 jumlah rekomendasi teratas. Fungsi akan mengambil 10 rekomendasi teratas menggunakan fungsi get_recommendations(), kemudian menghitung berapa banyak rekomendasi yang mengandung genre atau kata kunci yang dianggap relevan. Sehingga hasilnya bisa dilihat apakah sistem dapat memberikan rekomendasi yang sesuai dengan topik atau tidak. "
   ]
  },
  {
   "cell_type": "code",
   "execution_count": null,
   "id": "b2c2bae6",
   "metadata": {},
   "outputs": [],
   "source": [
    "def precision_recall(title, relevant_keywords, k=10):\n",
    "    recs = get_recommendations(title)\n",
    "    relevant_count = 0\n",
    "    matched_keywords = set()\n",
    "\n",
    "    for listed_in in recs['listed_in']:\n",
    "        for keyword in relevant_keywords:\n",
    "            if keyword.lower() in listed_in.lower():\n",
    "                matched_keywords.add(keyword.lower())\n",
    "                relevant_count += 1\n",
    "                break\n",
    "\n",
    "    precision = relevant_count / k\n",
    "    recall = len(matched_keywords) / len(set([kw.lower() for kw in relevant_keywords]))\n",
    "    return precision, recall\n"
   ]
  },
  {
   "cell_type": "markdown",
   "id": "f87fe7b1",
   "metadata": {},
   "source": [
    "Variabel titles_and_keywords merupakan variabel yang berisi daftar judul tayangan yang digunakan untuk evaluasi sistem rekomendasi menggunakan precision@10 dan recall@10 yang dilengkapi dengan genre setiap judul. Misalnya, judul \"Narcos\" dihubungkan dengan genre seperti \"Crime TV Shows\", \"TV Action & Adventure\", dan \"TV Dramas\", yang mencerminkan tema dan jenis tayangan dari konten tersebut. Daftar ini digunakan sebagai acuan relevansi saat menghitung metrik evaluasi seperti Precision@10 dan Recall@10, sehingga memungkinkan sistem diukur berdasarkan kemampuannya merekomendasikan konten yang memiliki kesamaan genre dan karakteristik dengan judul input."
   ]
  },
  {
   "cell_type": "code",
   "execution_count": 38,
   "id": "16f68709",
   "metadata": {},
   "outputs": [],
   "source": [
    "eval_results = {}\n",
    "titles_and_keywords = {\n",
    "    'Narcos': ['Crime TV Shows', 'TV Action & Adventure', 'TV Dramas'],\n",
    "    'The Crown': ['British TV Shows', 'International TV Shows', 'TV Dramas'],\n",
    "    'Jaguar': ['International TV Shows', 'Spanish-Language TV Shows', 'TV Action & Adventure']\n",
    "}"
   ]
  },
  {
   "cell_type": "markdown",
   "id": "a4bacc74",
   "metadata": {},
   "source": [
    "Kode ini melakukan looping untuk mengevaluasi performa pencocokan antara judul dan genre dengan menghitung metrik Precision@10 dan Recall@10 menggunakan fungsi precision_recall. Hasil evaluasi setiap judul disimpan dalam dictionary eval_results lalu hasilnya ditampilkan dalam bentuk tabel DataFrame agar mudah dibaca dan dianalisis."
   ]
  },
  {
   "cell_type": "code",
   "execution_count": 39,
   "id": "be4cc420",
   "metadata": {},
   "outputs": [
    {
     "data": {
      "text/html": [
       "<div>\n",
       "<style scoped>\n",
       "    .dataframe tbody tr th:only-of-type {\n",
       "        vertical-align: middle;\n",
       "    }\n",
       "\n",
       "    .dataframe tbody tr th {\n",
       "        vertical-align: top;\n",
       "    }\n",
       "\n",
       "    .dataframe thead th {\n",
       "        text-align: right;\n",
       "    }\n",
       "</style>\n",
       "<table border=\"1\" class=\"dataframe\">\n",
       "  <thead>\n",
       "    <tr style=\"text-align: right;\">\n",
       "      <th></th>\n",
       "      <th>Precision@10</th>\n",
       "      <th>Recall@10</th>\n",
       "    </tr>\n",
       "  </thead>\n",
       "  <tbody>\n",
       "    <tr>\n",
       "      <th>Narcos</th>\n",
       "      <td>1.0</td>\n",
       "      <td>0.67</td>\n",
       "    </tr>\n",
       "    <tr>\n",
       "      <th>The Crown</th>\n",
       "      <td>1.0</td>\n",
       "      <td>0.67</td>\n",
       "    </tr>\n",
       "    <tr>\n",
       "      <th>Jaguar</th>\n",
       "      <td>1.0</td>\n",
       "      <td>0.33</td>\n",
       "    </tr>\n",
       "  </tbody>\n",
       "</table>\n",
       "</div>"
      ],
      "text/plain": [
       "           Precision@10  Recall@10\n",
       "Narcos              1.0       0.67\n",
       "The Crown           1.0       0.67\n",
       "Jaguar              1.0       0.33"
      ]
     },
     "execution_count": 39,
     "metadata": {},
     "output_type": "execute_result"
    }
   ],
   "source": [
    "for title, keywords in titles_and_keywords.items():\n",
    "    prec, rec = precision_recall(title, keywords)\n",
    "    eval_results[title] = {'Precision@10': round(prec, 2), 'Recall@10': round(rec, 2)}\n",
    "\n",
    "# Tampilkan hasil\n",
    "pd.DataFrame(eval_results).T"
   ]
  }
 ],
 "metadata": {
  "kernelspec": {
   "display_name": "Python 3",
   "language": "python",
   "name": "python3"
  },
  "language_info": {
   "codemirror_mode": {
    "name": "ipython",
    "version": 3
   },
   "file_extension": ".py",
   "mimetype": "text/x-python",
   "name": "python",
   "nbconvert_exporter": "python",
   "pygments_lexer": "ipython3",
   "version": "3.12.3"
  }
 },
 "nbformat": 4,
 "nbformat_minor": 5
}
